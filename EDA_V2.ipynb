{
 "cells": [
  {
   "attachments": {},
   "cell_type": "markdown",
   "metadata": {},
   "source": [
    "**Problem Statement:**\n",
    "Backorders are unavoidable, but by anticipating which things will be backordered,\n",
    "planning can be streamlined at several levels, preventing unexpected strain on\n",
    "production, logistics, and transportation. ERP systems generate a lot of data (mainly\n",
    "structured) and also contain a lot of historical data; if this data can be properly utilized, a\n",
    "predictive model to forecast backorders and plan accordingly can be constructed.\n",
    "Based on past data from inventories, supply chain, and sales, classify the products as\n",
    "going into backorder (Yes or No).\n",
    "\n",
    "**What is Backorder ?** \n",
    "* A backorder is an order for a good or service that cannot be filled at the current time due to a lack of available supply. The item may not be held in the company's available inventory but could still be in production, or the company may need to still manufacture more of the product. Backorders are an indication that demand for a company's product outweighs its supply.<br>\n",
    "\n",
    "\n",
    "\n",
    "**Key Takeaways<br>**\n",
    "* A backorder is an order for a good or service that cannot be filled immediately because of a lack of available supply. \n",
    "* Backorders give insight into a company's inventory management. A manageable backorder with a short turnaround is a net positive, but a large backorder with longer wait times can be problematic.\n",
    "* Companies with manageable backorders tend to have high demand, while those that can't keep up may lose customers.\n",
    "* However, backorders allow for a company to maintain lower levels of inventory, have lower risk of obsolesce and theft, and may result in natural marketing for its highly demanded product.\n",
    "* Popular products in high demand (i.e. next generation gaming consoles or new iterations of cell phones) may experience backorders.\n",
    "#Data Description <br>\n",
    "**• sku** - Random product(sku) code <br>\n",
    "**• national_inv**  - Current inventory level of that sku <br>\n",
    "**• lead_time** - Transit time for product(if available at source)  <br>\n",
    "**• in_transit_qty** - Quantity in transit from source <br>\n",
    "**• forecast_x_month** - Forecast sales for the net 3, 6, 9 months <br>\n",
    "**• sales_x_month** - Sales quantity for the prior 1, 3, 6, 9 months <br>\n",
    "**• min_bank** - Minimum recommended amount to stock <br>\n",
    "**• potential_issue** - Indictor variable noting potential issue with item <br>\n",
    "**• pieces_past_due** - Parts overdue from source <br>\n",
    "**• perf_x_months_avg** - Source performance in the last 6 and 12 months <br>\n",
    "**• local_bo_qty** - Amount of stock orders overdue <br>\n",
    "**• deck_risk** – Part risk flag<br>\n",
    "**• oe_constraint** – Part risk flag<br>\n",
    "**• ppap_risk** – Part risk flag<br>\n",
    "**• stop_auto_buy** – Part risk flag<br>\n",
    "**• rev_stop** – Part risk flag<br>\n",
    "**• went_on_backorder** - Product went on backorder <br>\n",
    "## Get the Data\n",
    "Welcome to Backorder Machine Learning Prediction Project !! Our task will be , to predict whether the products will go on backorder or not .\n",
    "\n",
    "## Download the Data"
   ]
  },
  {
   "cell_type": "code",
   "execution_count": 13,
   "metadata": {},
   "outputs": [],
   "source": [
    "##imports\n",
    "import pandas as pd\n",
    "pd.set_option('display.max_columns', None)\n",
    "import matplotlib.pyplot as plt\n",
    "import seaborn as sns\n",
    "import pandas as pd\n",
    "import numpy as np\n",
    "from sklearn.model_selection import train_test_split"
   ]
  },
  {
   "cell_type": "code",
   "execution_count": null,
   "metadata": {},
   "outputs": [],
   "source": [
    "\n",
    "##Link to download test dataset is https://drive.google.com/file/d/1ABbfz7MjPLj2taxUxwsWxXgYsH-TnBNV/view?usp=share_link\n",
    "##Link to download train dataset is https://drive.google.com/file/d/1CTiyE6BZlDK-UNYUuuT8FXszBvuT9luS/view?usp=share_link\n",
    "Path(\"\")\n",
    "df_test = pd.read_csv(r\"/content/drive/MyDrive/bo project data/dataset/Kaggle_Test_Dataset_v2.csv\")\n",
    "df_train = pd.read_csv(r\"/content/drive/MyDrive/bo project data/dataset/Kaggle_Training_Dataset_v2.csv\")"
   ]
  },
  {
   "cell_type": "code",
   "execution_count": null,
   "metadata": {},
   "outputs": [],
   "source": []
  }
 ],
 "metadata": {
  "kernelspec": {
   "display_name": "bo_env",
   "language": "python",
   "name": "python3"
  },
  "language_info": {
   "codemirror_mode": {
    "name": "ipython",
    "version": 3
   },
   "file_extension": ".py",
   "mimetype": "text/x-python",
   "name": "python",
   "nbconvert_exporter": "python",
   "pygments_lexer": "ipython3",
   "version": "3.11.3"
  },
  "orig_nbformat": 4
 },
 "nbformat": 4,
 "nbformat_minor": 2
}
